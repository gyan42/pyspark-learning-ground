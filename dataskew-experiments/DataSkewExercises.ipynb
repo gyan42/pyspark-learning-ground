{
 "cells": [
  {
   "cell_type": "code",
   "execution_count": 1,
   "metadata": {},
   "outputs": [],
   "source": [
    "import pyspark\n",
    "from pyspark.sql import SparkSession\n",
    "import pyspark.sql.functions as F\n",
    "from pyspark.sql import Row\n",
    "from numpy.random import rand\n",
    "from pyspark.sql.types import IntegerType, StringType"
   ]
  },
  {
   "cell_type": "markdown",
   "metadata": {},
   "source": [
    "My machine has following configuration...\n",
    "- 6 cores with 12vCores\n",
    "- 32GB RAM\n",
    "\n",
    "Spark Standalone server:\n",
    "```\n",
    "cd /opt/softwares/spark-3.0.1-bin-hadoop3.2/\n",
    "\n",
    "export PYSPARK_PYTHON=/opt/envs/ai4e/bin/python\n",
    "export PYSPARK_DRIVER_PYTHON=/opt/envs/ai4e/bin/python\n",
    "\n",
    "sbin/start-all.sh\n",
    "sbin/stop-all.sh\n",
    "```\n",
    "Spark UI: [http://localhost:8080](http://localhost:8080)   \n",
    "Spark Master URL : spark://IMCHLT276:7077"
   ]
  },
  {
   "cell_type": "code",
   "execution_count": 2,
   "metadata": {},
   "outputs": [],
   "source": [
    "spark = SparkSession.builder \\\n",
    "    .master(\"spark://IMCHLT276:7077\") \\\n",
    "    .config(\"spark.sql.autoBroadcastJoinThreshold\", -1) \\\n",
    "    .config(\"spark.executor.memory\", \"4g\") \\\n",
    "    .config(\"spark.executor.cores\", \"2\") \\\n",
    "    .config(\"spark.cores.max\", \"10\") \\\n",
    "    .config(\"spark.local.dir\", \"/opt/tmp/spark-temp/\") \\\n",
    "    .appName(\"DataSkewness\") \\\n",
    "    .getOrCreate()\n",
    "\n",
    "# https://stackoverflow.com/questions/27774443/is-it-safe-to-temporarily-rename-tmp-and-then-create-a-tmp-symlink-to-a-differe\n",
    "# sudo mount --bind /path/to/dir/with/plenty/of/space /tmp\n",
    "# sudo lsof /tmp # check for apps\n",
    "# sudo umount /tmp"
   ]
  },
  {
   "cell_type": "code",
   "execution_count": 3,
   "metadata": {},
   "outputs": [
    {
     "data": {
      "text/html": [
       "\n",
       "            <div>\n",
       "                <p><b>SparkSession - in-memory</b></p>\n",
       "                \n",
       "        <div>\n",
       "            <p><b>SparkContext</b></p>\n",
       "\n",
       "            <p><a href=\"http://192.168.0.142:4040\">Spark UI</a></p>\n",
       "\n",
       "            <dl>\n",
       "              <dt>Version</dt>\n",
       "                <dd><code>v3.0.1</code></dd>\n",
       "              <dt>Master</dt>\n",
       "                <dd><code>spark://IMCHLT276:7077</code></dd>\n",
       "              <dt>AppName</dt>\n",
       "                <dd><code>DataSkewness</code></dd>\n",
       "            </dl>\n",
       "        </div>\n",
       "        \n",
       "            </div>\n",
       "        "
      ],
      "text/plain": [
       "<pyspark.sql.session.SparkSession at 0x7f9237fc4b10>"
      ]
     },
     "execution_count": 3,
     "metadata": {},
     "output_type": "execute_result"
    }
   ],
   "source": [
    "spark"
   ]
  },
  {
   "cell_type": "markdown",
   "metadata": {},
   "source": [
    "## Dataset\n",
    "\n",
    "Products  \n",
    "--------\n",
    ": product_id - The product ID  \n",
    ": product_name  - The product name   \n",
    ": price - The product price   \n",
    "\n",
    "Sellers  \n",
    "-------\n",
    ": seller_id  - The seller ID   \n",
    ": seller_name  - The seller name    \n",
    ": daily_target - The number of items (regardless of the product type) that the seller needs to hit his/her quota. For example, if the daily target is 100,000, the employee needs to sell 100,000 products he can hit the quota by selling 100,000 units of product_0, but also selling 30,000 units of product_1 and 70,000 units of product_2   \n",
    "\n",
    "Sales  \n",
    "-----\n",
    ": order_id  - The order ID   \n",
    ": product_id  - The single product sold in the order. All orders have exactly one product)   \n",
    ": seller_id  - The selling employee ID that sold the product   \n",
    ": date - The date of the order.    \n",
    ": num_pieces_sold - The number of units sold for the specific product in the order    \n",
    ": bill_raw_text  -  A string that represents the raw text of the bill associated with the order   \n"
   ]
  },
  {
   "cell_type": "code",
   "execution_count": 4,
   "metadata": {},
   "outputs": [],
   "source": [
    "def read_df(path, is_print=False):\n",
    "    if is_print: print(f\"\\nReading {path}\")\n",
    "    df = spark.read.parquet(path)\n",
    "    if is_print: df.show()\n",
    "    if is_print: print(f\"Number of records in {path} is {df.count()}\" )\n",
    "    if is_print: print(\"_\"*80 + \"\\n\")\n",
    "    return df\n"
   ]
  },
  {
   "cell_type": "code",
   "execution_count": 5,
   "metadata": {},
   "outputs": [
    {
     "name": "stdout",
     "output_type": "stream",
     "text": [
      "DataGenerator.ipynb\t products.csv\t   sales.csv\t  sellers_parquet\n",
      "DataSkewExercises.ipynb  products_parquet  sales_parquet\n",
      "data\t\t\t requirements.txt  sellers.csv\n"
     ]
    }
   ],
   "source": [
    "! ls"
   ]
  },
  {
   "cell_type": "code",
   "execution_count": 6,
   "metadata": {},
   "outputs": [],
   "source": [
    "products_df, sales_df, sellers_df = None, None, None\n",
    "def reload(is_print=False):\n",
    "    global products_df, sales_df, sellers_df\n",
    "    products_df = read_df(\"data/products_parquet\", is_print=is_print)\n",
    "    sellers_df = read_df(\"data/sellers_parquet\", is_print=is_print)\n",
    "    sales_df = read_df(\"data/sales_parquet/\", is_print=is_print)\n",
    "#     return products_df, sales_df, sellers_df"
   ]
  },
  {
   "cell_type": "code",
   "execution_count": 7,
   "metadata": {},
   "outputs": [
    {
     "name": "stdout",
     "output_type": "stream",
     "text": [
      "\n",
      "Reading data/products_parquet\n",
      "+----------+----------------+-------------+\n",
      "|product_id|    product_name|product_price|\n",
      "+----------+----------------+-------------+\n",
      "|   7958964| product_7958964|          101|\n",
      "|   6315293| product_6315293|          122|\n",
      "|  22900640|product_22900640|           97|\n",
      "|  27724440|product_27724440|           23|\n",
      "|  32428960|product_32428960|           21|\n",
      "|  14157374|product_14157374|          141|\n",
      "|  27120261|product_27120261|          100|\n",
      "|   8052753| product_8052753|           26|\n",
      "|  11731791|product_11731791|           12|\n",
      "|   5418200| product_5418200|           72|\n",
      "|  21935231|product_21935231|            7|\n",
      "|  18203831|product_18203831|          128|\n",
      "|  20165155|product_20165155|           97|\n",
      "|  34717159|product_34717159|          102|\n",
      "|   4666041| product_4666041|            2|\n",
      "|  31736408|product_31736408|           65|\n",
      "|  22269340|product_22269340|           77|\n",
      "|   7909585| product_7909585|          104|\n",
      "|  14193727|product_14193727|           86|\n",
      "|  14487657|product_14487657|           82|\n",
      "+----------+----------------+-------------+\n",
      "only showing top 20 rows\n",
      "\n",
      "Number of records in data/products_parquet is 75000000\n",
      "________________________________________________________________________________\n",
      "\n",
      "\n",
      "Reading data/sellers_parquet\n",
      "+---------+-----------+------------+\n",
      "|seller_id|seller_name|daily_target|\n",
      "+---------+-----------+------------+\n",
      "|        7|   seller_7|      480106|\n",
      "|        0|   seller_0|     2500000|\n",
      "|        3|   seller_3|       64451|\n",
      "|        2|   seller_2|      245478|\n",
      "|        8|   seller_8|      304632|\n",
      "|        1|   seller_1|     1352975|\n",
      "|        5|   seller_5|      588778|\n",
      "|        6|   seller_6|      525575|\n",
      "|        9|   seller_9|     1556492|\n",
      "|        4|   seller_4|     1567144|\n",
      "+---------+-----------+------------+\n",
      "\n",
      "Number of records in data/sellers_parquet is 10\n",
      "________________________________________________________________________________\n",
      "\n",
      "\n",
      "Reading data/sales_parquet/\n",
      "+--------+----------+---------+----------+---------------+--------------------+\n",
      "|order_id|product_id|seller_id|      date|num_pieces_sold|       bill_raw_text|\n",
      "+--------+----------+---------+----------+---------------+--------------------+\n",
      "|19570067|  64987371|        2|2020-07-03|             24|rvhxqhrsjzoqdkewv...|\n",
      "|19570077|   3298138|        1|2020-07-06|             70|twajbmhuwbydrsnte...|\n",
      "|19570167|  42261970|        2|2020-07-06|             81|ritdipqpafyoquznw...|\n",
      "|19570217|   7214184|        3|2020-07-09|             28|gsmlspxazmjccyipc...|\n",
      "|19570401|  62345519|        1|2020-07-02|             35|omrjduxagfffgyrvs...|\n",
      "|19570992|  39848800|        5|2020-07-10|            100|zqvwdlanfphjlfeau...|\n",
      "|19571379|  52336290|        8|2020-07-06|             32|oxqrzyhlvdmcgbiqb...|\n",
      "|19571458|  32001983|        3|2020-07-10|            100|nbliahefwhkckosuz...|\n",
      "|19572369|  71835243|       10|2020-07-08|              4|fymvnckitayhbtwgc...|\n",
      "|19572398|  23738068|        1|2020-07-02|             52|vxhyevxnrytrzyrtb...|\n",
      "|19572662|   8467928|        7|2020-07-07|             49|igjcapuaktczgilhh...|\n",
      "|19572780|  16876753|        5|2020-07-07|             64|zxnpfxrltieakcigo...|\n",
      "|19572843|   4290888|       10|2020-07-05|             90|zascsbyzjevgnkkrp...|\n",
      "|19572975|  55930824|        2|2020-07-05|             73|mtbnonxixeqokrrle...|\n",
      "|19573110|  71405224|        9|2020-07-01|             44|gvgwwdmkvogbekosm...|\n",
      "|19573263|    467125|        7|2020-07-04|              5|oiskwqjmgacsyjdmz...|\n",
      "|19573606|  56533033|       10|2020-07-06|             47|dvntdneeplalgzvez...|\n",
      "|19573651|    674015|        1|2020-07-10|             71|myvewrydvwhzqmdch...|\n",
      "|19574028|  55480992|        2|2020-07-10|             27|fanwmdpnsbydklfqf...|\n",
      "|19574453|  24659976|       10|2020-07-05|             78|nmzytbkdithhchqfr...|\n",
      "+--------+----------+---------+----------+---------------+--------------------+\n",
      "only showing top 20 rows\n",
      "\n",
      "Number of records in data/sales_parquet/ is 20000000\n",
      "________________________________________________________________________________\n",
      "\n"
     ]
    }
   ],
   "source": [
    "reload(True)"
   ]
  },
  {
   "cell_type": "code",
   "execution_count": 8,
   "metadata": {},
   "outputs": [
    {
     "name": "stdout",
     "output_type": "stream",
     "text": [
      "+--------+----------+---------+----------+---------------+--------------------+\n",
      "|order_id|product_id|seller_id|      date|num_pieces_sold|       bill_raw_text|\n",
      "+--------+----------+---------+----------+---------------+--------------------+\n",
      "|       1|         0|        0|2020-07-04|              6|zlecsnopmizucbnyn...|\n",
      "+--------+----------+---------+----------+---------------+--------------------+\n",
      "\n"
     ]
    }
   ],
   "source": [
    "sales_df.filter(F.col('order_id') == 1).show()"
   ]
  },
  {
   "cell_type": "markdown",
   "metadata": {},
   "source": [
    "**1. Find out how many orders, how many products and how many sellers are in the data.**"
   ]
  },
  {
   "cell_type": "code",
   "execution_count": 9,
   "metadata": {},
   "outputs": [
    {
     "name": "stdout",
     "output_type": "stream",
     "text": [
      "Sellers no: 10\n"
     ]
    }
   ],
   "source": [
    "%%time\n",
    "print(f\"Sellers no: {sellers_df.count()}\")"
   ]
  },
  {
   "cell_type": "code",
   "execution_count": 10,
   "metadata": {},
   "outputs": [
    {
     "name": "stdout",
     "output_type": "stream",
     "text": [
      "Products no: 75000000\n"
     ]
    }
   ],
   "source": [
    "%%time\n",
    "print(f\"Products no: {products_df.count()}\")"
   ]
  },
  {
   "cell_type": "code",
   "execution_count": 11,
   "metadata": {},
   "outputs": [
    {
     "name": "stdout",
     "output_type": "stream",
     "text": [
      "Sales no: 20000000\n"
     ]
    }
   ],
   "source": [
    "%%time\n",
    "print(f\"Sales no: {sales_df.count()}\")"
   ]
  },
  {
   "cell_type": "markdown",
   "metadata": {},
   "source": [
    "**2. How many products have been sold at least once?**"
   ]
  },
  {
   "cell_type": "code",
   "execution_count": 13,
   "metadata": {},
   "outputs": [
    {
     "name": "stdout",
     "output_type": "stream",
     "text": [
      "Number of products sold at least once\n",
      "+-----------------+\n",
      "|count(product_id)|\n",
      "+-----------------+\n",
      "|           993420|\n",
      "+-----------------+\n",
      "\n"
     ]
    }
   ],
   "source": [
    "%%time\n",
    "print(\"Number of products sold at least once\")\n",
    "sales_df.agg(F.countDistinct(F.col(\"product_id\"))).show()\n",
    "# sales_df.agg({\"product_id\" : \"countDistinct\"}).show()"
   ]
  },
  {
   "cell_type": "code",
   "execution_count": 14,
   "metadata": {},
   "outputs": [
    {
     "name": "stdout",
     "output_type": "stream",
     "text": [
      "+--------------------------+\n",
      "|count(DISTINCT product_id)|\n",
      "+--------------------------+\n",
      "|                    993420|\n",
      "+--------------------------+\n",
      "\n"
     ]
    }
   ],
   "source": [
    "%%time\n",
    "sales_df.select(F.countDistinct(F.col(\"product_id\"))).show()"
   ]
  },
  {
   "cell_type": "markdown",
   "metadata": {},
   "source": [
    "**3. Which is the product contained in more orders?**"
   ]
  },
  {
   "cell_type": "code",
   "execution_count": 12,
   "metadata": {},
   "outputs": [
    {
     "name": "stdout",
     "output_type": "stream",
     "text": [
      "+----------+--------+\n",
      "|product_id|     cnt|\n",
      "+----------+--------+\n",
      "|         0|19000000|\n",
      "+----------+--------+\n",
      "\n",
      "CPU times: user 4.14 ms, sys: 7.11 ms, total: 11.2 ms\n",
      "Wall time: 5.49 s\n"
     ]
    }
   ],
   "source": [
    "%%time\n",
    "sales_df.groupBy(\"product_id\")\\\n",
    "    .agg(F.count(\"*\").alias(\"cnt\"))\\\n",
    "    .orderBy(F.col(\"cnt\").desc())\\\n",
    "    .limit(1).show()"
   ]
  },
  {
   "cell_type": "markdown",
   "metadata": {},
   "source": [
    "**4. How many distinct products have been sold in each day?**"
   ]
  },
  {
   "cell_type": "code",
   "execution_count": 13,
   "metadata": {},
   "outputs": [
    {
     "name": "stdout",
     "output_type": "stream",
     "text": [
      "+----------+------+\n",
      "|      date|   cnt|\n",
      "+----------+------+\n",
      "|2020-07-01|100319|\n",
      "|2020-07-02|100227|\n",
      "|2020-07-09|100146|\n",
      "|2020-07-08|100059|\n",
      "|2020-07-04| 99905|\n",
      "|2020-07-07| 99894|\n",
      "|2020-07-03| 99865|\n",
      "|2020-07-10| 99801|\n",
      "|2020-07-06| 99692|\n",
      "|2020-07-05| 99427|\n",
      "+----------+------+\n",
      "\n",
      "CPU times: user 10.4 ms, sys: 0 ns, total: 10.4 ms\n",
      "Wall time: 8.42 s\n"
     ]
    }
   ],
   "source": [
    "%%time\n",
    "sales_df.groupBy(\"date\") \\\n",
    "        .agg(F.countDistinct(F.col(\"product_id\")).alias(\"cnt\"))\\\n",
    "        .orderBy(F.col(\"cnt\").desc()) \\\n",
    "        .show()"
   ]
  },
  {
   "cell_type": "markdown",
   "metadata": {},
   "source": [
    "**5.What is the average revenue of the orders?**"
   ]
  },
  {
   "cell_type": "code",
   "execution_count": 14,
   "metadata": {},
   "outputs": [
    {
     "name": "stdout",
     "output_type": "stream",
     "text": [
      "CPU times: user 6.18 ms, sys: 1.33 ms, total: 7.51 ms\n",
      "Wall time: 208 ms\n"
     ]
    }
   ],
   "source": [
    "%%time\n",
    "reload()"
   ]
  },
  {
   "cell_type": "markdown",
   "metadata": {},
   "source": [
    "Check the DAG visualization of following join..."
   ]
  },
  {
   "cell_type": "code",
   "execution_count": 15,
   "metadata": {},
   "outputs": [
    {
     "name": "stdout",
     "output_type": "stream",
     "text": [
      "+----------+--------------+-------------+--------+---------+----------+---------------+--------------------+\n",
      "|product_id|  product_name|product_price|order_id|seller_id|      date|num_pieces_sold|       bill_raw_text|\n",
      "+----------+--------------+-------------+--------+---------+----------+---------------+--------------------+\n",
      "|     15237| product_15237|           74|19568472|        8|2020-07-06|             74|kefitmblrbpzetkhe...|\n",
      "|     32954| product_32954|           62|19572695|        3|2020-07-02|             57|iftmxvmheuruxjaju...|\n",
      "|     50219| product_50219|          149|19256164|        1|2020-07-02|              1|koygorokoebfchlzr...|\n",
      "|     59861| product_59861|           40|19369311|        6|2020-07-09|             19|aosqakuirnhvhzjhe...|\n",
      "|     62273| product_62273|           57|19510383|        1|2020-07-06|             25|qpvfgdggcfsbgruxt...|\n",
      "|     74783| product_74783|           11|19381052|        7|2020-07-08|              2|bpmqrdmvjyrhuihjl...|\n",
      "|     75232| product_75232|           54|19663522|        1|2020-07-07|              9|swajxmdwaabrqjjhc...|\n",
      "|     79035| product_79035|           99|19760835|        5|2020-07-01|             87|sSdwYsuinuscfzrti...|\n",
      "|     92508| product_92508|           53|19825736|        1|2020-07-01|             63|kryzkbamjnycgpdbz...|\n",
      "|     94988| product_94988|           68|19787634|        8|2020-07-06|             43|ibbmsfnqgzfkqubdq...|\n",
      "|    101221|product_101221|           39|19673335|        2|2020-07-02|             73|iewnllphgTosowelu...|\n",
      "|    104919|product_104919|           88|19137711|        7|2020-07-06|              1|jupiuocjofcyfqebb...|\n",
      "|    111609|product_111609|           76|19291796|        9|2020-07-09|             26|ggxjoganknaqldmzg...|\n",
      "|    127907|product_127907|           75|19271014|        6|2020-07-05|             40|thmvckilcclvtaexx...|\n",
      "|    133907|product_133907|           72|19189790|        2|2020-07-05|              2|jpljwmayitjeaxxrl...|\n",
      "|    149992|product_149992|           98|19879136|        1|2020-07-03|             68|lfmawetsyvzfcfept...|\n",
      "|    161554|product_161554|          121|19917167|        5|2020-07-09|             60|qjeviayyrclmqddtz...|\n",
      "|    189248|product_189248|           19|19425059|        6|2020-07-02|             77|ltgQldgyrklhqnqrc...|\n",
      "|    203677|product_203677|           16|19771811|        9|2020-07-09|             50|iceptsrugwjjforpw...|\n",
      "|    210691|product_210691|           66|19149927|        2|2020-07-04|             17|dcsmyzdgibfgowvdr...|\n",
      "+----------+--------------+-------------+--------+---------+----------+---------------+--------------------+\n",
      "only showing top 20 rows\n",
      "\n",
      "CPU times: user 1.53 ms, sys: 20.5 ms, total: 22 ms\n",
      "Wall time: 1min 22s\n"
     ]
    }
   ],
   "source": [
    "%%time\n",
    "products_df.join(sales_df, on=\"product_id\", how=\"inner\").show()"
   ]
  },
  {
   "cell_type": "code",
   "execution_count": 20,
   "metadata": {},
   "outputs": [
    {
     "data": {
      "text/plain": [
       "20000000"
      ]
     },
     "execution_count": 20,
     "metadata": {},
     "output_type": "execute_result"
    }
   ],
   "source": [
    "products_df = products_df.repartition(128)\n",
    "sales_df = sales_df.repartition(256)\n",
    "products_df.join(sales_df, on=\"product_id\").count() ### Will end up as timeout error"
   ]
  },
  {
   "cell_type": "code",
   "execution_count": 16,
   "metadata": {},
   "outputs": [
    {
     "data": {
      "text/plain": [
       "19999999"
      ]
     },
     "execution_count": 16,
     "metadata": {},
     "output_type": "execute_result"
    }
   ],
   "source": [
    "products_df = products_df.withColumnRenamed(\"product_id\", \"repartition_id\").repartition(512, F.col(\"repartition_id\"))\n",
    "sales_df = sales_df.withColumnRenamed(\"product_id\", \"repartition_id\").repartition(512, F.col(\"repartition_id\"))     \n",
    "products_df.join(sales_df, on=\"repartition_id\").count() ### Will end up as timeout error"
   ]
  },
  {
   "cell_type": "code",
   "execution_count": 24,
   "metadata": {},
   "outputs": [],
   "source": [
    "def saltify(df, col_name, number_of_partition):\n",
    "    \"\"\"\n",
    "    Adds a new column names `col_name`_salted, which has concatenated values of `col_name` and number in the range of 0 to number_of_partition\n",
    "    Note: import pyspark.sql.functions as F\n",
    "    \"\"\"\n",
    "    salted_col = col_name + \"_salted\"  \n",
    "    return df.withColumn(\"dummy\", F.monotonically_increasing_id() % number_of_partition)\\\n",
    "            .withColumn(salted_col, F.concat(F.col(col_name), F.lit(\"-\"),F.col(\"dummy\")))\\\n",
    "            .drop(F.col(\"dummy\")).repartition(number_of_partition, F.col(salted_col)) "
   ]
  },
  {
   "cell_type": "code",
   "execution_count": 25,
   "metadata": {},
   "outputs": [],
   "source": [
    "products_df = saltify(df=products_df, col_name=\"product_id\", number_of_partition=1024)"
   ]
  },
  {
   "cell_type": "code",
   "execution_count": 26,
   "metadata": {},
   "outputs": [],
   "source": [
    "# products_df.show()"
   ]
  },
  {
   "cell_type": "code",
   "execution_count": 27,
   "metadata": {},
   "outputs": [],
   "source": [
    "sales_df = saltify(df=sales_df, col_name=\"product_id\", number_of_partition=1024)"
   ]
  },
  {
   "cell_type": "code",
   "execution_count": 28,
   "metadata": {},
   "outputs": [],
   "source": [
    "# sales_df.groupBy(\"product_id_salted\")\\\n",
    "#     .agg(F.count(\"*\").alias(\"cnt\"))\\\n",
    "#     .orderBy(F.col(\"cnt\").desc())\\\n",
    "#     .limit(1).show()"
   ]
  },
  {
   "cell_type": "code",
   "execution_count": 29,
   "metadata": {},
   "outputs": [
    {
     "name": "stdout",
     "output_type": "stream",
     "text": [
      "+------------------------------+\n",
      "|avg((price * num_pieces_sold))|\n",
      "+------------------------------+\n",
      "|             1242.751587464154|\n",
      "+------------------------------+\n",
      "\n"
     ]
    }
   ],
   "source": [
    "%timeit\n",
    "products_df.join(sales_df, on=\"product_id_salted\", how=\"inner\").agg(F.avg(products_df[\"price\"] * sales_df[\"num_pieces_sold\"])).show()"
   ]
  },
  {
   "cell_type": "code",
   "execution_count": 13,
   "metadata": {},
   "outputs": [],
   "source": [
    "# Step 1 - Check and select the skewed keys \n",
    "# In this case we are retrieving the top 100 keys: these will be the only salted keys.\n",
    "results = sales_df.groupby(sales_df[\"product_id\"]).count().sort(F.col(\"count\").desc()).limit(100).collect()\n"
   ]
  },
  {
   "cell_type": "code",
   "execution_count": 14,
   "metadata": {},
   "outputs": [],
   "source": [
    "# Step 2 - What we want to do is:\n",
    "#  a. Duplicate the entries that we have in the dimension table for the most common products, e.g.\n",
    "#       product_0 will become: product_0-1, product_0-2, product_0-3 and so on\n",
    "#  b. On the sales table, we are going to replace \"product_0\" with a random duplicate (e.g. some of them \n",
    "#     will be replaced with product_0-1, others with product_0-2, etc.)\n",
    "# Using the new \"salted\" key will unskew the join\n",
    "\n",
    "# Let's create a dataset to do the trick\n",
    "REPLICATION_FACTOR = 101\n",
    "l = []\n",
    "replicated_products = []\n",
    "for _r in results:\n",
    "    replicated_products.append(_r[\"product_id\"])\n",
    "    for _rep in range(0, REPLICATION_FACTOR):\n",
    "        l.append((_r[\"product_id\"], _rep))\n",
    "        \n",
    "rdd = spark.sparkContext.parallelize(l)\n",
    "replicated_df = rdd.map(lambda x: Row(product_id=x[0], replication=int(x[1])))\n",
    "replicated_df = spark.createDataFrame(replicated_df)\n",
    "# replicated_df.show()"
   ]
  },
  {
   "cell_type": "code",
   "execution_count": 15,
   "metadata": {},
   "outputs": [],
   "source": [
    "#   Step 3: Generate the salted key\n",
    "products_df = products_df.join(F.broadcast(replicated_df), products_df[\"product_id\"] == replicated_df[\"product_id\"], \"left\"). \\\n",
    "    withColumn(\"salted_join_key\", F.when(replicated_df[\"replication\"].isNull(), products_df[\"product_id\"]).otherwise(\n",
    "    F.concat(replicated_df[\"product_id\"], F.lit(\"-\"), replicated_df[\"replication\"])))\n",
    "\n",
    "# products_df.show()\n"
   ]
  },
  {
   "cell_type": "code",
   "execution_count": 17,
   "metadata": {},
   "outputs": [],
   "source": [
    "sales_df = sales_df.withColumn(\"salted_join_key\", F.when(sales_df[\"product_id\"].isin(replicated_products),\n",
    "                                                             F.concat(sales_df[\"product_id\"], F.lit(\"-\"),\n",
    "                                                                    F.lit(round(rand() * (REPLICATION_FACTOR - 1), 0)).cast(\n",
    "                                                                        IntegerType()))).otherwise(sales_df[\"product_id\"]))\n",
    "# sales_df.show()\n"
   ]
  },
  {
   "cell_type": "code",
   "execution_count": 18,
   "metadata": {},
   "outputs": [
    {
     "name": "stdout",
     "output_type": "stream",
     "text": [
      "+------------------------------+\n",
      "|avg((price * num_pieces_sold))|\n",
      "+------------------------------+\n",
      "|            1246.1338560822878|\n",
      "+------------------------------+\n",
      "\n",
      "None\n",
      "Ok\n"
     ]
    }
   ],
   "source": [
    "#   Step 4: Finally let's do the join\n",
    "print(sales_df.join(products_df, sales_df[\"salted_join_key\"] == products_df[\"salted_join_key\"],\n",
    "                       \"inner\").\n",
    "      agg(F.avg(products_df[\"price\"] * sales_df[\"num_pieces_sold\"])).show())\n",
    "\n",
    "print(\"Ok\")"
   ]
  },
  {
   "cell_type": "markdown",
   "metadata": {},
   "source": [
    "**6. For each seller, what is the average % contribution of an order to the seller's daily quota?**\n",
    "\n",
    "Example   \n",
    "If Seller_0 with `quota=250` has 3 orders:Order 1: 10 products sold    \n",
    "Order 2: 8 products sold    \n",
    "Order 3: 7 products soldThe average % contribution of orders to the seller's quota would be:    \n",
    "Order 1: 10/105 = 0.04   \n",
    "Order 2: 8/105 = 0.032     \n",
    "Order 3: 7/105 = 0.028Average % Contribution = (0.04+0.032+0.028)/3 = 0.03333    "
   ]
  },
  {
   "cell_type": "code",
   "execution_count": 121,
   "metadata": {},
   "outputs": [],
   "source": [
    "reload()"
   ]
  },
  {
   "cell_type": "code",
   "execution_count": 122,
   "metadata": {},
   "outputs": [
    {
     "name": "stdout",
     "output_type": "stream",
     "text": [
      "+---------+-----------+------------+\n",
      "|seller_id|seller_name|daily_target|\n",
      "+---------+-----------+------------+\n",
      "|        0|   seller_0|     2500000|\n",
      "|        1|   seller_1|      257237|\n",
      "|        2|   seller_2|      754188|\n",
      "|        3|   seller_3|      310462|\n",
      "|        4|   seller_4|     1532808|\n",
      "|        5|   seller_5|     1199693|\n",
      "|        6|   seller_6|     1055915|\n",
      "|        7|   seller_7|     1946998|\n",
      "|        8|   seller_8|      547320|\n",
      "|        9|   seller_9|     1318051|\n",
      "+---------+-----------+------------+\n",
      "\n"
     ]
    }
   ],
   "source": [
    "sellers_df.show()"
   ]
  },
  {
   "cell_type": "code",
   "execution_count": 123,
   "metadata": {},
   "outputs": [
    {
     "name": "stdout",
     "output_type": "stream",
     "text": [
      "+--------+----------+---------+----------+---------------+--------------------+\n",
      "|order_id|product_id|seller_id|      date|num_pieces_sold|       bill_raw_text|\n",
      "+--------+----------+---------+----------+---------------+--------------------+\n",
      "|       1|         0|        0|2020-07-10|             26|kyeibuumwlyhuwksx...|\n",
      "|       2|         0|        0|2020-07-08|             13|jfyuoyfkeyqkckwbu...|\n",
      "|       3|         0|        0|2020-07-05|             38|uyjihlzhzcswxcccx...|\n",
      "|       4|         0|        0|2020-07-05|             56|umnxvoqbdzpbwjqmz...|\n",
      "|       5|         0|        0|2020-07-05|             11|zmqexmaawmvdpqhih...|\n",
      "|       6|         0|        0|2020-07-01|             82|lmuhhkpyuoyslwmvX...|\n",
      "|       7|         0|        0|2020-07-04|             15|zoqweontumefxbgvu...|\n",
      "|       8|         0|        0|2020-07-08|             79|sgldfgtcxufasnvsc...|\n",
      "|       9|         0|        0|2020-07-10|             25|jnykelwjjebgkwgmu...|\n",
      "|      10|         0|        0|2020-07-08|              8|yywjfihneygcvfnyl...|\n",
      "|      11|         0|        0|2020-07-01|             10|nxwejyoeznltdhcam...|\n",
      "|      12|         0|        0|2020-07-06|             45|efmymeftivwsfljzt...|\n",
      "|      13|         0|        0|2020-07-10|             63|nxhvtospPhfnkavdy...|\n",
      "|      14|         0|        0|2020-07-03|             22|ypyusdsjzfpfbucnn...|\n",
      "|      15|         0|        0|2020-07-09|             75|ymjvbhaxffyjcwzyn...|\n",
      "|      16|         0|        0|2020-07-10|             83|phbcykkhvqsbkipwa...|\n",
      "|      17|         0|        0|2020-07-04|             54|qgnGqqnjmbqZytoug...|\n",
      "|      18|         0|        0|2020-07-04|             58|ozmllbabrnhebWcex...|\n",
      "|      19|         0|        0|2020-07-07|             33|kbrvXuzgiuinodtkg...|\n",
      "|      20|         0|        0|2020-07-09|             73|jnqjzaigjtqlfwpug...|\n",
      "+--------+----------+---------+----------+---------------+--------------------+\n",
      "only showing top 20 rows\n",
      "\n"
     ]
    }
   ],
   "source": [
    "sales_df.show()"
   ]
  },
  {
   "cell_type": "code",
   "execution_count": 134,
   "metadata": {},
   "outputs": [
    {
     "name": "stdout",
     "output_type": "stream",
     "text": [
      "+---------+--------------------+\n",
      "|seller_id|          avg(ratio)|\n",
      "+---------+--------------------+\n",
      "|        7|2.595228787788171E-5|\n",
      "|        3|1.628885370565939...|\n",
      "|        8| 9.21303037540886E-5|\n",
      "|        0|2.019885898946922...|\n",
      "|        5|4.211073965904021E-5|\n",
      "|        6|4.782147194369122E-5|\n",
      "|        9|3.837913136180238E-5|\n",
      "|        1|1.964233366461015E-4|\n",
      "|        4|3.296428039825816E-5|\n",
      "|        2|6.690408001060484E-5|\n",
      "+---------+--------------------+\n",
      "\n"
     ]
    }
   ],
   "source": [
    "sales_df.join(F.broadcast(sellers_df), on=\"seller_id\", how=\"inner\")\\\n",
    ".withColumn(\"ratio\", sales_df[\"num_pieces_sold\"]/sellers_df[\"daily_target\"])\\\n",
    ".groupBy(\"seller_id\").agg(F.avg(\"ratio\")).alias(\"percent\").show()"
   ]
  },
  {
   "cell_type": "markdown",
   "metadata": {},
   "source": [
    "**6.Who are the second most selling and the least selling persons (sellers) for each product? Who are those for product with `product_id = 0`**"
   ]
  },
  {
   "cell_type": "code",
   "execution_count": null,
   "metadata": {},
   "outputs": [],
   "source": []
  },
  {
   "cell_type": "code",
   "execution_count": null,
   "metadata": {},
   "outputs": [],
   "source": []
  },
  {
   "cell_type": "code",
   "execution_count": null,
   "metadata": {},
   "outputs": [],
   "source": []
  },
  {
   "cell_type": "code",
   "execution_count": null,
   "metadata": {},
   "outputs": [],
   "source": []
  },
  {
   "cell_type": "markdown",
   "metadata": {},
   "source": [
    "**7.**\n",
    "Create a new column called \"hashed_bill\" defined as follows:\n",
    "\n",
    "- if the order_id is even: apply MD5 hashing iteratively to the bill_raw_text field, once for each 'A' (capital 'A') present in the text. E.g. if the bill text is 'nbAAnllA', you would apply hashing three times iteratively (only if the order number is even)\n",
    "\n",
    "- if the order_id is odd: apply SHA256 hashing to the bill textFinally, check if there are any duplicate on the new column"
   ]
  },
  {
   "cell_type": "code",
   "execution_count": 152,
   "metadata": {},
   "outputs": [
    {
     "name": "stdout",
     "output_type": "stream",
     "text": [
      "+--------+----------+---------+----------+---------------+--------------------+\n",
      "|order_id|product_id|seller_id|      date|num_pieces_sold|       bill_raw_text|\n",
      "+--------+----------+---------+----------+---------------+--------------------+\n",
      "|       1|         0|        0|2020-07-10|             26|kyeibuumwlyhuwksx...|\n",
      "|       2|         0|        0|2020-07-08|             13|jfyuoyfkeyqkckwbu...|\n",
      "|       3|         0|        0|2020-07-05|             38|uyjihlzhzcswxcccx...|\n",
      "|       4|         0|        0|2020-07-05|             56|umnxvoqbdzpbwjqmz...|\n",
      "|       5|         0|        0|2020-07-05|             11|zmqexmaawmvdpqhih...|\n",
      "|       6|         0|        0|2020-07-01|             82|lmuhhkpyuoyslwmvX...|\n",
      "|       7|         0|        0|2020-07-04|             15|zoqweontumefxbgvu...|\n",
      "|       8|         0|        0|2020-07-08|             79|sgldfgtcxufasnvsc...|\n",
      "|       9|         0|        0|2020-07-10|             25|jnykelwjjebgkwgmu...|\n",
      "|      10|         0|        0|2020-07-08|              8|yywjfihneygcvfnyl...|\n",
      "|      11|         0|        0|2020-07-01|             10|nxwejyoeznltdhcam...|\n",
      "|      12|         0|        0|2020-07-06|             45|efmymeftivwsfljzt...|\n",
      "|      13|         0|        0|2020-07-10|             63|nxhvtospPhfnkavdy...|\n",
      "|      14|         0|        0|2020-07-03|             22|ypyusdsjzfpfbucnn...|\n",
      "|      15|         0|        0|2020-07-09|             75|ymjvbhaxffyjcwzyn...|\n",
      "|      16|         0|        0|2020-07-10|             83|phbcykkhvqsbkipwa...|\n",
      "|      17|         0|        0|2020-07-04|             54|qgnGqqnjmbqZytoug...|\n",
      "|      18|         0|        0|2020-07-04|             58|ozmllbabrnhebWcex...|\n",
      "|      19|         0|        0|2020-07-07|             33|kbrvXuzgiuinodtkg...|\n",
      "|      20|         0|        0|2020-07-09|             73|jnqjzaigjtqlfwpug...|\n",
      "+--------+----------+---------+----------+---------------+--------------------+\n",
      "only showing top 20 rows\n",
      "\n",
      "root\n",
      " |-- order_id: string (nullable = true)\n",
      " |-- product_id: string (nullable = true)\n",
      " |-- seller_id: string (nullable = true)\n",
      " |-- date: string (nullable = true)\n",
      " |-- num_pieces_sold: string (nullable = true)\n",
      " |-- bill_raw_text: string (nullable = true)\n",
      "\n"
     ]
    }
   ],
   "source": [
    "reload()\n",
    "sales_df.show()\n",
    "sales_df.printSchema()"
   ]
  },
  {
   "cell_type": "code",
   "execution_count": 184,
   "metadata": {},
   "outputs": [],
   "source": [
    "import hashlib \n",
    "def get_hash(order_id, text):\n",
    "    res = text\n",
    "    if int(order_id) % 2 == 0:\n",
    "        res = hashlib.md5(bytes(res, 'utf-8')).hexdigest()\n",
    "        for c in text:\n",
    "            if c == 'A':\n",
    "                res = hashlib.md5(bytes(res, 'utf-8')).hexdigest()\n",
    "    else:\n",
    "        res = hashlib.sha256(bytes(res, 'utf-8')).hexdigest()\n",
    "    return res\n",
    "        \n",
    "get_hash_udf = F.udf(get_hash, StringType())   "
   ]
  },
  {
   "cell_type": "code",
   "execution_count": 185,
   "metadata": {},
   "outputs": [
    {
     "data": {
      "text/plain": [
       "'67d25a783609ce62d5456dc297c05dfd'"
      ]
     },
     "execution_count": 185,
     "metadata": {},
     "output_type": "execute_result"
    }
   ],
   "source": [
    "get_hash(\"24\", \"jfyuoyfkAAeyqkckwbu\")"
   ]
  },
  {
   "cell_type": "code",
   "execution_count": 178,
   "metadata": {},
   "outputs": [],
   "source": [
    "# sales_df.withColumn(\"hashed_bill\", get_hash_udf(\"order_id\", \"bill_raw_text\")).show()\n",
    "hashed_df = sales_df.withColumn(\"hashed_bill\", get_hash_udf(F.col(\"order_id\"), F.col(\"bill_raw_text\")))"
   ]
  },
  {
   "cell_type": "code",
   "execution_count": 179,
   "metadata": {},
   "outputs": [
    {
     "name": "stdout",
     "output_type": "stream",
     "text": [
      "+--------+----------+---------+----------+---------------+--------------------+--------------------+\n",
      "|order_id|product_id|seller_id|      date|num_pieces_sold|       bill_raw_text|         hashed_bill|\n",
      "+--------+----------+---------+----------+---------------+--------------------+--------------------+\n",
      "|       1|         0|        0|2020-07-10|             26|kyeibuumwlyhuwksx...|f6fa2a8be04a4ead6...|\n",
      "|       2|         0|        0|2020-07-08|             13|jfyuoyfkeyqkckwbu...|jfyuoyfkeyqkckwbu...|\n",
      "|       3|         0|        0|2020-07-05|             38|uyjihlzhzcswxcccx...|416376a64cd652e7b...|\n",
      "|       4|         0|        0|2020-07-05|             56|umnxvoqbdzpbwjqmz...|umnxvoqbdzpbwjqmz...|\n",
      "|       5|         0|        0|2020-07-05|             11|zmqexmaawmvdpqhih...|787d361b162a6aa1a...|\n",
      "|       6|         0|        0|2020-07-01|             82|lmuhhkpyuoyslwmvX...|lmuhhkpyuoyslwmvX...|\n",
      "|       7|         0|        0|2020-07-04|             15|zoqweontumefxbgvu...|4540f452a7c4d5049...|\n",
      "|       8|         0|        0|2020-07-08|             79|sgldfgtcxufasnvsc...|sgldfgtcxufasnvsc...|\n",
      "|       9|         0|        0|2020-07-10|             25|jnykelwjjebgkwgmu...|28b93c1c62caa2b97...|\n",
      "|      10|         0|        0|2020-07-08|              8|yywjfihneygcvfnyl...|51d35e22937a5f4f2...|\n",
      "|      11|         0|        0|2020-07-01|             10|nxwejyoeznltdhcam...|000cbc89a752db6c4...|\n",
      "|      12|         0|        0|2020-07-06|             45|efmymeftivwsfljzt...|efmymeftivwsfljzt...|\n",
      "|      13|         0|        0|2020-07-10|             63|nxhvtospPhfnkavdy...|dd67ab7d952be16fa...|\n",
      "|      14|         0|        0|2020-07-03|             22|ypyusdsjzfpfbucnn...|ypyusdsjzfpfbucnn...|\n",
      "|      15|         0|        0|2020-07-09|             75|ymjvbhaxffyjcwzyn...|1ffcc4531e752f9a1...|\n",
      "|      16|         0|        0|2020-07-10|             83|phbcykkhvqsbkipwa...|phbcykkhvqsbkipwa...|\n",
      "|      17|         0|        0|2020-07-04|             54|qgnGqqnjmbqZytoug...|2e93d3b4789a5fb76...|\n",
      "|      18|         0|        0|2020-07-04|             58|ozmllbabrnhebWcex...|ozmllbabrnhebWcex...|\n",
      "|      19|         0|        0|2020-07-07|             33|kbrvXuzgiuinodtkg...|985ddbfaac225a8c2...|\n",
      "|      20|         0|        0|2020-07-09|             73|jnqjzaigjtqlfwpug...|jnqjzaigjtqlfwpug...|\n",
      "+--------+----------+---------+----------+---------------+--------------------+--------------------+\n",
      "only showing top 20 rows\n",
      "\n"
     ]
    }
   ],
   "source": [
    "hashed_df.show()"
   ]
  },
  {
   "cell_type": "code",
   "execution_count": 180,
   "metadata": {},
   "outputs": [
    {
     "name": "stdout",
     "output_type": "stream",
     "text": [
      "+-----------+---+\n",
      "|hashed_bill|cnt|\n",
      "+-----------+---+\n",
      "+-----------+---+\n",
      "\n"
     ]
    }
   ],
   "source": [
    "hashed_df.groupby(F.col(\"hashed_bill\")).agg(F.count(\"*\").alias(\"cnt\")).where(F.col(\"cnt\") > 1).show()"
   ]
  },
  {
   "cell_type": "code",
   "execution_count": 181,
   "metadata": {},
   "outputs": [
    {
     "data": {
      "text/plain": [
       "20000040"
      ]
     },
     "execution_count": 181,
     "metadata": {},
     "output_type": "execute_result"
    }
   ],
   "source": [
    "hashed_df.select(\"hashed_bill\").count()"
   ]
  },
  {
   "cell_type": "code",
   "execution_count": 183,
   "metadata": {},
   "outputs": [
    {
     "name": "stdout",
     "output_type": "stream",
     "text": [
      "+---------------------------+\n",
      "|count(DISTINCT hashed_bill)|\n",
      "+---------------------------+\n",
      "|                   20000040|\n",
      "+---------------------------+\n",
      "\n"
     ]
    }
   ],
   "source": [
    "hashed_df.agg(F.countDistinct(F.col(\"hashed_bill\"))).show()"
   ]
  },
  {
   "cell_type": "code",
   "execution_count": 35,
   "metadata": {},
   "outputs": [],
   "source": [
    "df = spark.range(1000000).select(F.col(\"id\"))"
   ]
  },
  {
   "cell_type": "code",
   "execution_count": 36,
   "metadata": {},
   "outputs": [
    {
     "name": "stdout",
     "output_type": "stream",
     "text": [
      "+---+\n",
      "| id|\n",
      "+---+\n",
      "|  0|\n",
      "|  1|\n",
      "|  2|\n",
      "|  3|\n",
      "|  4|\n",
      "|  5|\n",
      "|  6|\n",
      "|  7|\n",
      "|  8|\n",
      "|  9|\n",
      "| 10|\n",
      "| 11|\n",
      "| 12|\n",
      "| 13|\n",
      "| 14|\n",
      "| 15|\n",
      "| 16|\n",
      "| 17|\n",
      "| 18|\n",
      "| 19|\n",
      "+---+\n",
      "only showing top 20 rows\n",
      "\n"
     ]
    }
   ],
   "source": [
    "df.show()"
   ]
  },
  {
   "cell_type": "code",
   "execution_count": null,
   "metadata": {},
   "outputs": [],
   "source": []
  }
 ],
 "metadata": {
  "kernelspec": {
   "display_name": "Python 3",
   "language": "python",
   "name": "python3"
  },
  "language_info": {
   "codemirror_mode": {
    "name": "ipython",
    "version": 3
   },
   "file_extension": ".py",
   "mimetype": "text/x-python",
   "name": "python",
   "nbconvert_exporter": "python",
   "pygments_lexer": "ipython3",
   "version": "3.7.9"
  }
 },
 "nbformat": 4,
 "nbformat_minor": 4
}
