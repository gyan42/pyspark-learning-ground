{
 "cells": [
  {
   "cell_type": "markdown",
   "id": "expanded-revelation",
   "metadata": {},
   "source": [
    "# References\n",
    "- https://www.robinlinacre.com/left_join/\n",
    "- https://stackoverflow.com/questions/50019457/why-does-spark-planner-prefer-sort-merge-join-over-shuffled-hash-join\n",
    "- https://xuechendi.github.io/2019/04/15/Spark-Shuffle-and-Spill-Explained"
   ]
  },
  {
   "cell_type": "markdown",
   "id": "worth-showcase",
   "metadata": {},
   "source": [
    "----------------------\n",
    "For example, when we perform reduceByKey() operation, PySpark does the following\n",
    "- PySpark first runs map tasks on all partitions which groups all values for a single key.\n",
    "- The results of the map tasks are kept in memory.\n",
    "- When results do not fit in memory, PySpark stores the data into a disk.\n",
    "- PySpark shuffles the mapped data across partitions, some times it also stores the shuffled data into a disk for reuse when it needs to recalculate.\n",
    "- Run the garbage collection\n",
    "- Finally runs reduce tasks on each partition based on key."
   ]
  },
  {
   "cell_type": "markdown",
   "id": "african-spirituality",
   "metadata": {},
   "source": [
    "https://stackoverflow.com/questions/30145329/reducebykey-how-does-it-work-internally"
   ]
  },
  {
   "cell_type": "markdown",
   "id": "precious-sleep",
   "metadata": {},
   "source": [
    "https://xuechendi.github.io/2019/04/15/Spark-Shuffle-and-Spill-Explained"
   ]
  },
  {
   "cell_type": "code",
   "execution_count": null,
   "id": "insured-tuition",
   "metadata": {},
   "outputs": [],
   "source": []
  }
 ],
 "metadata": {
  "kernelspec": {
   "display_name": "Python 3",
   "language": "python",
   "name": "python3"
  },
  "language_info": {
   "codemirror_mode": {
    "name": "ipython",
    "version": 3
   },
   "file_extension": ".py",
   "mimetype": "text/x-python",
   "name": "python",
   "nbconvert_exporter": "python",
   "pygments_lexer": "ipython3",
   "version": "3.7.9"
  }
 },
 "nbformat": 4,
 "nbformat_minor": 5
}
