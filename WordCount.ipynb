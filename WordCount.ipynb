{
 "cells": [
  {
   "cell_type": "code",
   "execution_count": 1,
   "id": "german-ideal",
   "metadata": {},
   "outputs": [],
   "source": [
    "from pyspark.sql import SparkSession"
   ]
  },
  {
   "cell_type": "code",
   "execution_count": 2,
   "id": "earned-palestine",
   "metadata": {},
   "outputs": [],
   "source": [
    "MAX_NUM_CORES = 10"
   ]
  },
  {
   "cell_type": "code",
   "execution_count": 3,
   "id": "arctic-culture",
   "metadata": {},
   "outputs": [],
   "source": [
    "spark = SparkSession.builder \\\n",
    "    .master(\"spark://IMCHLT276:7077\") \\\n",
    "    .config(\"spark.sql.autoBroadcastJoinThreshold\", -1) \\\n",
    "    .config(\"spark.executor.memory\", \"2g\") \\\n",
    "    .config(\"spark.executor.cores\", \"2\") \\\n",
    "    .config(\"spark.cores.max\", f\"{MAX_NUM_CORES}\") \\\n",
    "    .config(\"spark.local.dir\", \"/opt/tmp/spark-temp/\") \\\n",
    "    .appName(\"DataSkewness\") \\\n",
    "    .getOrCreate()\n",
    "\n",
    "sc = spark.sparkContext"
   ]
  },
  {
   "cell_type": "code",
   "execution_count": 11,
   "id": "reserved-australian",
   "metadata": {},
   "outputs": [
    {
     "name": "stdout",
     "output_type": "stream",
     "text": [
      "[('18:35:34', 13), ('SampleClass6', 1), ('[INFO]', 1), ('everything', 1), ('[FATAL]', 1), ('at', 1), ('SampleClass3', 2), ('detail', 6), ('1304807656', 1), ('verbose', 4), ('[ERROR]', 1), ('incorrect', 1), ('', 1), ('SampleClass8', 1), ('1903854437', 1), ('SampleClass7', 3), ('is', 3), ('test', 3), ('case1', 2), ('biggest', 1)]\n"
     ]
    }
   ],
   "source": [
    "# Create RDD from text file\n",
    "rdd = sc.textFile('data/simple_text.txt') # file:///\n",
    "\n",
    "# Split lines into words\n",
    "lines_rdd = rdd.flatMap(lambda line: line.split(\" \"))\n",
    "\n",
    "# Create Pair RDD by giving 1 to each word\n",
    "# transformed_rdd = transformed_rdd.map(lambda x: x.strip('[').strip(']'))\n",
    "words_rdd = lines_rdd.map(lambda word: (word, 1))\n",
    "\n",
    "# GroupByWord\n",
    "word_count_rdd = words_rdd.reduceByKey(lambda a, b: a+b)\n",
    "\n",
    "# To View the data\n",
    "print(word_count_rdd.take(20))\n",
    "\n",
    "# Write data to out path\n",
    "word_count_rdd.saveAsTextFile('data/out/')"
   ]
  },
  {
   "cell_type": "code",
   "execution_count": 4,
   "id": "contrary-tower",
   "metadata": {},
   "outputs": [
    {
     "data": {
      "text/html": [
       "\n",
       "            <div>\n",
       "                <p><b>SparkSession - in-memory</b></p>\n",
       "                \n",
       "        <div>\n",
       "            <p><b>SparkContext</b></p>\n",
       "\n",
       "            <p><a href=\"http://192.168.0.142:4040\">Spark UI</a></p>\n",
       "\n",
       "            <dl>\n",
       "              <dt>Version</dt>\n",
       "                <dd><code>v2.4.7</code></dd>\n",
       "              <dt>Master</dt>\n",
       "                <dd><code>spark://IMCHLT276:7077</code></dd>\n",
       "              <dt>AppName</dt>\n",
       "                <dd><code>DataSkewness</code></dd>\n",
       "            </dl>\n",
       "        </div>\n",
       "        \n",
       "            </div>\n",
       "        "
      ],
      "text/plain": [
       "<pyspark.sql.session.SparkSession at 0x7f068ce5cf50>"
      ]
     },
     "execution_count": 4,
     "metadata": {},
     "output_type": "execute_result"
    }
   ],
   "source": [
    "spark"
   ]
  },
  {
   "cell_type": "markdown",
   "id": "median-imaging",
   "metadata": {},
   "source": [
    "**Test how partition size affects the output file numbers**\n",
    "\n",
    "**Test 1** : Number of partition is equal to the cores"
   ]
  },
  {
   "cell_type": "code",
   "execution_count": 21,
   "id": "strong-england",
   "metadata": {},
   "outputs": [
    {
     "name": "stdout",
     "output_type": "stream",
     "text": [
      "+---+\n",
      "| id|\n",
      "+---+\n",
      "|  0|\n",
      "|  1|\n",
      "|  2|\n",
      "|  3|\n",
      "|  4|\n",
      "|  5|\n",
      "|  6|\n",
      "|  7|\n",
      "|  8|\n",
      "|  9|\n",
      "| 10|\n",
      "| 11|\n",
      "| 12|\n",
      "| 13|\n",
      "| 14|\n",
      "| 15|\n",
      "| 16|\n",
      "| 17|\n",
      "| 18|\n",
      "| 19|\n",
      "+---+\n",
      "only showing top 20 rows\n",
      "\n"
     ]
    }
   ],
   "source": [
    "df = spark.range(100000)\n",
    "df.show()"
   ]
  },
  {
   "cell_type": "code",
   "execution_count": 11,
   "id": "brave-apartment",
   "metadata": {},
   "outputs": [
    {
     "data": {
      "text/plain": [
       "True"
      ]
     },
     "execution_count": 11,
     "metadata": {},
     "output_type": "execute_result"
    }
   ],
   "source": [
    "df.rdd.getNumPartitions() == MAX_NUM_CORES"
   ]
  },
  {
   "cell_type": "code",
   "execution_count": 9,
   "id": "communist-messenger",
   "metadata": {},
   "outputs": [],
   "source": [
    "! rm -rf /tmp/df_tes/\n",
    "df.write.parquet(\"/tmp/df_tes/\")\n",
    "!ls /tmp/df_tes/"
   ]
  },
  {
   "cell_type": "markdown",
   "id": "compound-election",
   "metadata": {},
   "source": [
    "**Test 2** : Repartition will affect the number ouput files"
   ]
  },
  {
   "cell_type": "code",
   "execution_count": 23,
   "id": "burning-cosmetic",
   "metadata": {},
   "outputs": [
    {
     "data": {
      "text/plain": [
       "20"
      ]
     },
     "execution_count": 23,
     "metadata": {},
     "output_type": "execute_result"
    }
   ],
   "source": [
    "df = spark.range(100000)\n",
    "df = df.repartition(20)\n",
    "df.rdd.getNumPartitions()"
   ]
  },
  {
   "cell_type": "code",
   "execution_count": 14,
   "id": "coordinate-aside",
   "metadata": {},
   "outputs": [
    {
     "name": "stdout",
     "output_type": "stream",
     "text": [
      "_SUCCESS\n",
      "part-00000-1876d46c-f683-4ebd-81a7-e99f246916a8-c000.snappy.parquet\n",
      "part-00001-1876d46c-f683-4ebd-81a7-e99f246916a8-c000.snappy.parquet\n",
      "part-00002-1876d46c-f683-4ebd-81a7-e99f246916a8-c000.snappy.parquet\n",
      "part-00003-1876d46c-f683-4ebd-81a7-e99f246916a8-c000.snappy.parquet\n",
      "part-00004-1876d46c-f683-4ebd-81a7-e99f246916a8-c000.snappy.parquet\n",
      "part-00005-1876d46c-f683-4ebd-81a7-e99f246916a8-c000.snappy.parquet\n",
      "part-00006-1876d46c-f683-4ebd-81a7-e99f246916a8-c000.snappy.parquet\n",
      "part-00007-1876d46c-f683-4ebd-81a7-e99f246916a8-c000.snappy.parquet\n",
      "part-00008-1876d46c-f683-4ebd-81a7-e99f246916a8-c000.snappy.parquet\n",
      "part-00009-1876d46c-f683-4ebd-81a7-e99f246916a8-c000.snappy.parquet\n",
      "part-00010-1876d46c-f683-4ebd-81a7-e99f246916a8-c000.snappy.parquet\n",
      "part-00011-1876d46c-f683-4ebd-81a7-e99f246916a8-c000.snappy.parquet\n",
      "part-00012-1876d46c-f683-4ebd-81a7-e99f246916a8-c000.snappy.parquet\n",
      "part-00013-1876d46c-f683-4ebd-81a7-e99f246916a8-c000.snappy.parquet\n",
      "part-00014-1876d46c-f683-4ebd-81a7-e99f246916a8-c000.snappy.parquet\n",
      "part-00015-1876d46c-f683-4ebd-81a7-e99f246916a8-c000.snappy.parquet\n",
      "part-00016-1876d46c-f683-4ebd-81a7-e99f246916a8-c000.snappy.parquet\n",
      "part-00017-1876d46c-f683-4ebd-81a7-e99f246916a8-c000.snappy.parquet\n",
      "part-00018-1876d46c-f683-4ebd-81a7-e99f246916a8-c000.snappy.parquet\n",
      "part-00019-1876d46c-f683-4ebd-81a7-e99f246916a8-c000.snappy.parquet\n"
     ]
    }
   ],
   "source": [
    "! rm -rf /tmp/df_tes/\n",
    "df.write.parquet(\"/tmp/df_tes/\")\n",
    "!ls /tmp/df_tes/"
   ]
  },
  {
   "cell_type": "markdown",
   "id": "broke-consultancy",
   "metadata": {},
   "source": [
    "**Test 3** : Repartition to 1 and see waht happens?"
   ]
  },
  {
   "cell_type": "code",
   "execution_count": 50,
   "id": "absolute-hunger",
   "metadata": {},
   "outputs": [
    {
     "data": {
      "text/plain": [
       "1"
      ]
     },
     "execution_count": 50,
     "metadata": {},
     "output_type": "execute_result"
    }
   ],
   "source": [
    "df = spark.range(10000000)\n",
    "df = df.repartition(1)\n",
    "df.rdd.getNumPartitions()"
   ]
  },
  {
   "cell_type": "code",
   "execution_count": 52,
   "id": "oriental-frame",
   "metadata": {},
   "outputs": [
    {
     "name": "stdout",
     "output_type": "stream",
     "text": [
      "total 39M\n",
      "drwxrwxr-x  2 mageswarand mageswarand 4.0K Feb 18 13:26 .\n",
      "drwxrwxrwt 36 root        root        4.0K Feb 18 13:26 ..\n",
      "-rw-r--r--  1 mageswarand mageswarand    8 Feb 18 13:26 ._SUCCESS.crc\n",
      "-rw-r--r--  1 mageswarand mageswarand 306K Feb 18 13:26 .part-00000-40d5a79d-70bf-4762-bddb-22a29d64db6e-c000.snappy.parquet.crc\n",
      "-rw-r--r--  1 mageswarand mageswarand    0 Feb 18 13:26 _SUCCESS\n",
      "-rw-r--r--  1 mageswarand mageswarand  39M Feb 18 13:26 part-00000-40d5a79d-70bf-4762-bddb-22a29d64db6e-c000.snappy.parquet\n"
     ]
    }
   ],
   "source": [
    "! rm -rf /tmp/df_tes/\n",
    "df.write.parquet(\"/tmp/df_tes/\")\n",
    "!ls /tmp/df_tes/ -alh"
   ]
  },
  {
   "cell_type": "markdown",
   "id": "distributed-exchange",
   "metadata": {},
   "source": [
    "**Test 4** : coalesce"
   ]
  },
  {
   "cell_type": "code",
   "execution_count": 27,
   "id": "inside-spell",
   "metadata": {},
   "outputs": [
    {
     "data": {
      "text/plain": [
       "1"
      ]
     },
     "execution_count": 27,
     "metadata": {},
     "output_type": "execute_result"
    }
   ],
   "source": [
    "df = spark.range(100000)\n",
    "df = df.coalesce(1)\n",
    "df.rdd.getNumPartitions()"
   ]
  },
  {
   "cell_type": "code",
   "execution_count": 28,
   "id": "floppy-casting",
   "metadata": {},
   "outputs": [
    {
     "name": "stdout",
     "output_type": "stream",
     "text": [
      "_SUCCESS  part-00000-2b4e54a3-e11e-4a5a-b53d-96f0e42d9c51-c000.snappy.parquet\n"
     ]
    }
   ],
   "source": [
    "! rm -rf /tmp/df_tes/\n",
    "df.write.parquet(\"/tmp/df_tes/\")\n",
    "!ls /tmp/df_tes/ -alh"
   ]
  },
  {
   "cell_type": "markdown",
   "id": "black-lodge",
   "metadata": {},
   "source": [
    "**Test 5** : Add a text column and repartition to 1 and see waht happens? Size on local disk doesn't matter. On HDFS this may change"
   ]
  },
  {
   "cell_type": "code",
   "execution_count": 6,
   "id": "moderate-translation",
   "metadata": {},
   "outputs": [
    {
     "name": "stdout",
     "output_type": "stream",
     "text": [
      "Number of chars to choose from 26884\n"
     ]
    }
   ],
   "source": [
    "import string, random\n",
    "import pyspark.sql.functions as F\n",
    "from pyspark.sql.types import *\n",
    "\n",
    "letters = string.ascii_lowercase\n",
    "letters_upper = string.ascii_uppercase\n",
    "\n",
    "for _i in range(0, 10):\n",
    "    letters += letters\n",
    "\n",
    "for _i in range(0, 10):\n",
    "    letters += letters_upper\n",
    "\n",
    "print(\"Number of chars to choose from\", len(letters))\n",
    "sample_string = random.sample(letters, 500)\n",
    "# print(\"sample_string\", ''.join(sample_string))\n",
    "\n",
    "def random_string(stringLength=200):\n",
    "    \"\"\"Generate a random string of fixed length \"\"\"\n",
    "    return ''.join(random.sample(letters, stringLength))\n",
    "\n",
    "random_string_udf = F.udf(random_string,StringType())"
   ]
  },
  {
   "cell_type": "code",
   "execution_count": 7,
   "id": "genetic-green",
   "metadata": {},
   "outputs": [],
   "source": [
    "df = spark.range(1000000)\n",
    "df = df.withColumn(\"data\", random_string_udf())"
   ]
  },
  {
   "cell_type": "code",
   "execution_count": 8,
   "id": "palestinian-mattress",
   "metadata": {},
   "outputs": [],
   "source": [
    "df = df.repartition(1, F.col(\"data\"))\n",
    "df = df.select(\"data\")"
   ]
  },
  {
   "cell_type": "code",
   "execution_count": 9,
   "id": "capable-reporter",
   "metadata": {},
   "outputs": [
    {
     "data": {
      "text/plain": [
       "1"
      ]
     },
     "execution_count": 9,
     "metadata": {},
     "output_type": "execute_result"
    }
   ],
   "source": [
    "df.rdd.getNumPartitions()"
   ]
  },
  {
   "cell_type": "code",
   "execution_count": 10,
   "id": "loaded-cambridge",
   "metadata": {},
   "outputs": [
    {
     "name": "stdout",
     "output_type": "stream",
     "text": [
      "CPU times: user 6 µs, sys: 4 µs, total: 10 µs\n",
      "Wall time: 18.1 µs\n",
      "total 197M\n",
      "drwxrwxr-x  2 mageswarand mageswarand 4.0K Feb 18 14:32 .\n",
      "drwxrwxrwt 36 root        root        4.0K Feb 18 14:32 ..\n",
      "-rw-r--r--  1 mageswarand mageswarand    8 Feb 18 14:32 ._SUCCESS.crc\n",
      "-rw-r--r--  1 mageswarand mageswarand 1.6M Feb 18 14:32 .part-00000-90cd6cf3-8eb1-445d-a85e-c9a464f4a094-c000.snappy.parquet.crc\n",
      "-rw-r--r--  1 mageswarand mageswarand    0 Feb 18 14:32 _SUCCESS\n",
      "-rw-r--r--  1 mageswarand mageswarand 195M Feb 18 14:32 part-00000-90cd6cf3-8eb1-445d-a85e-c9a464f4a094-c000.snappy.parquet\n"
     ]
    }
   ],
   "source": [
    "%time\n",
    "! rm -rf /tmp/df_tes/\n",
    "df.write.parquet(\"/tmp/df_tes/\")\n",
    "!ls /tmp/df_tes/ -alh"
   ]
  },
  {
   "cell_type": "code",
   "execution_count": 17,
   "id": "fixed-arrow",
   "metadata": {},
   "outputs": [
    {
     "name": "stdout",
     "output_type": "stream",
     "text": [
      "+--------------------+-------+\n",
      "|SPARK_PARTITION_ID()|  count|\n",
      "+--------------------+-------+\n",
      "|                   0|1000000|\n",
      "+--------------------+-------+\n",
      "\n"
     ]
    }
   ],
   "source": [
    "from pyspark.sql.functions import spark_partition_id\n",
    "\n",
    "df.groupBy(spark_partition_id()).count().show()"
   ]
  },
  {
   "cell_type": "markdown",
   "id": "legendary-interview",
   "metadata": {},
   "source": [
    "**Test 6** : Read back the stored DF with 1 partition and see how many partitions are there? Equals to number of cores"
   ]
  },
  {
   "cell_type": "code",
   "execution_count": 20,
   "id": "electrical-booking",
   "metadata": {},
   "outputs": [
    {
     "data": {
      "text/plain": [
       "10"
      ]
     },
     "execution_count": 20,
     "metadata": {},
     "output_type": "execute_result"
    }
   ],
   "source": [
    "df = spark.read.parquet(\"/tmp/df_tes/\")\n",
    "df.rdd.getNumPartitions()"
   ]
  },
  {
   "cell_type": "markdown",
   "id": "contrary-touch",
   "metadata": {},
   "source": [
    "**Test 7** Store as many paritions and read it back"
   ]
  },
  {
   "cell_type": "code",
   "execution_count": 21,
   "id": "friendly-advocacy",
   "metadata": {},
   "outputs": [],
   "source": [
    "df = spark.range(1000000)\n",
    "df = df.withColumn(\"data\", random_string_udf())\n",
    "df = df.repartition(32, F.col(\"data\"))\n",
    "df = df.select(\"data\")"
   ]
  },
  {
   "cell_type": "code",
   "execution_count": 22,
   "id": "superb-reynolds",
   "metadata": {},
   "outputs": [
    {
     "name": "stdout",
     "output_type": "stream",
     "text": [
      "CPU times: user 3 µs, sys: 2 µs, total: 5 µs\n",
      "Wall time: 8.82 µs\n",
      "total 197M\n",
      "drwxrwxr-x  2 mageswarand mageswarand  12K Feb 18 15:38 .\n",
      "drwxrwxrwt 36 root        root        4.0K Feb 18 15:38 ..\n",
      "-rw-r--r--  1 mageswarand mageswarand    8 Feb 18 15:38 ._SUCCESS.crc\n",
      "-rw-r--r--  1 mageswarand mageswarand  49K Feb 18 15:38 .part-00000-87fc8316-4176-4e93-aa56-2b347163f81a-c000.snappy.parquet.crc\n",
      "-rw-r--r--  1 mageswarand mageswarand  49K Feb 18 15:38 .part-00001-87fc8316-4176-4e93-aa56-2b347163f81a-c000.snappy.parquet.crc\n",
      "-rw-r--r--  1 mageswarand mageswarand  49K Feb 18 15:38 .part-00002-87fc8316-4176-4e93-aa56-2b347163f81a-c000.snappy.parquet.crc\n",
      "-rw-r--r--  1 mageswarand mageswarand  49K Feb 18 15:38 .part-00003-87fc8316-4176-4e93-aa56-2b347163f81a-c000.snappy.parquet.crc\n",
      "-rw-r--r--  1 mageswarand mageswarand  49K Feb 18 15:38 .part-00004-87fc8316-4176-4e93-aa56-2b347163f81a-c000.snappy.parquet.crc\n",
      "-rw-r--r--  1 mageswarand mageswarand  49K Feb 18 15:38 .part-00005-87fc8316-4176-4e93-aa56-2b347163f81a-c000.snappy.parquet.crc\n",
      "-rw-r--r--  1 mageswarand mageswarand  49K Feb 18 15:38 .part-00006-87fc8316-4176-4e93-aa56-2b347163f81a-c000.snappy.parquet.crc\n",
      "-rw-r--r--  1 mageswarand mageswarand  49K Feb 18 15:38 .part-00007-87fc8316-4176-4e93-aa56-2b347163f81a-c000.snappy.parquet.crc\n",
      "-rw-r--r--  1 mageswarand mageswarand  49K Feb 18 15:38 .part-00008-87fc8316-4176-4e93-aa56-2b347163f81a-c000.snappy.parquet.crc\n",
      "-rw-r--r--  1 mageswarand mageswarand  49K Feb 18 15:38 .part-00009-87fc8316-4176-4e93-aa56-2b347163f81a-c000.snappy.parquet.crc\n",
      "-rw-r--r--  1 mageswarand mageswarand  50K Feb 18 15:38 .part-00010-87fc8316-4176-4e93-aa56-2b347163f81a-c000.snappy.parquet.crc\n",
      "-rw-r--r--  1 mageswarand mageswarand  50K Feb 18 15:38 .part-00011-87fc8316-4176-4e93-aa56-2b347163f81a-c000.snappy.parquet.crc\n",
      "-rw-r--r--  1 mageswarand mageswarand  49K Feb 18 15:38 .part-00012-87fc8316-4176-4e93-aa56-2b347163f81a-c000.snappy.parquet.crc\n",
      "-rw-r--r--  1 mageswarand mageswarand  49K Feb 18 15:38 .part-00013-87fc8316-4176-4e93-aa56-2b347163f81a-c000.snappy.parquet.crc\n",
      "-rw-r--r--  1 mageswarand mageswarand  49K Feb 18 15:38 .part-00014-87fc8316-4176-4e93-aa56-2b347163f81a-c000.snappy.parquet.crc\n",
      "-rw-r--r--  1 mageswarand mageswarand  50K Feb 18 15:38 .part-00015-87fc8316-4176-4e93-aa56-2b347163f81a-c000.snappy.parquet.crc\n",
      "-rw-r--r--  1 mageswarand mageswarand  49K Feb 18 15:38 .part-00016-87fc8316-4176-4e93-aa56-2b347163f81a-c000.snappy.parquet.crc\n",
      "-rw-r--r--  1 mageswarand mageswarand  49K Feb 18 15:38 .part-00017-87fc8316-4176-4e93-aa56-2b347163f81a-c000.snappy.parquet.crc\n",
      "-rw-r--r--  1 mageswarand mageswarand  49K Feb 18 15:38 .part-00018-87fc8316-4176-4e93-aa56-2b347163f81a-c000.snappy.parquet.crc\n",
      "-rw-r--r--  1 mageswarand mageswarand  49K Feb 18 15:38 .part-00019-87fc8316-4176-4e93-aa56-2b347163f81a-c000.snappy.parquet.crc\n",
      "-rw-r--r--  1 mageswarand mageswarand  49K Feb 18 15:38 .part-00020-87fc8316-4176-4e93-aa56-2b347163f81a-c000.snappy.parquet.crc\n",
      "-rw-r--r--  1 mageswarand mageswarand  49K Feb 18 15:38 .part-00021-87fc8316-4176-4e93-aa56-2b347163f81a-c000.snappy.parquet.crc\n",
      "-rw-r--r--  1 mageswarand mageswarand  49K Feb 18 15:38 .part-00022-87fc8316-4176-4e93-aa56-2b347163f81a-c000.snappy.parquet.crc\n",
      "-rw-r--r--  1 mageswarand mageswarand  49K Feb 18 15:38 .part-00023-87fc8316-4176-4e93-aa56-2b347163f81a-c000.snappy.parquet.crc\n",
      "-rw-r--r--  1 mageswarand mageswarand  49K Feb 18 15:38 .part-00024-87fc8316-4176-4e93-aa56-2b347163f81a-c000.snappy.parquet.crc\n",
      "-rw-r--r--  1 mageswarand mageswarand  49K Feb 18 15:38 .part-00025-87fc8316-4176-4e93-aa56-2b347163f81a-c000.snappy.parquet.crc\n",
      "-rw-r--r--  1 mageswarand mageswarand  49K Feb 18 15:38 .part-00026-87fc8316-4176-4e93-aa56-2b347163f81a-c000.snappy.parquet.crc\n",
      "-rw-r--r--  1 mageswarand mageswarand  49K Feb 18 15:38 .part-00027-87fc8316-4176-4e93-aa56-2b347163f81a-c000.snappy.parquet.crc\n",
      "-rw-r--r--  1 mageswarand mageswarand  49K Feb 18 15:38 .part-00028-87fc8316-4176-4e93-aa56-2b347163f81a-c000.snappy.parquet.crc\n",
      "-rw-r--r--  1 mageswarand mageswarand  49K Feb 18 15:38 .part-00029-87fc8316-4176-4e93-aa56-2b347163f81a-c000.snappy.parquet.crc\n",
      "-rw-r--r--  1 mageswarand mageswarand  49K Feb 18 15:38 .part-00030-87fc8316-4176-4e93-aa56-2b347163f81a-c000.snappy.parquet.crc\n",
      "-rw-r--r--  1 mageswarand mageswarand  49K Feb 18 15:38 .part-00031-87fc8316-4176-4e93-aa56-2b347163f81a-c000.snappy.parquet.crc\n",
      "-rw-r--r--  1 mageswarand mageswarand    0 Feb 18 15:38 _SUCCESS\n",
      "-rw-r--r--  1 mageswarand mageswarand 6.1M Feb 18 15:38 part-00000-87fc8316-4176-4e93-aa56-2b347163f81a-c000.snappy.parquet\n",
      "-rw-r--r--  1 mageswarand mageswarand 6.1M Feb 18 15:38 part-00001-87fc8316-4176-4e93-aa56-2b347163f81a-c000.snappy.parquet\n",
      "-rw-r--r--  1 mageswarand mageswarand 6.1M Feb 18 15:38 part-00002-87fc8316-4176-4e93-aa56-2b347163f81a-c000.snappy.parquet\n",
      "-rw-r--r--  1 mageswarand mageswarand 6.1M Feb 18 15:38 part-00003-87fc8316-4176-4e93-aa56-2b347163f81a-c000.snappy.parquet\n",
      "-rw-r--r--  1 mageswarand mageswarand 6.2M Feb 18 15:38 part-00004-87fc8316-4176-4e93-aa56-2b347163f81a-c000.snappy.parquet\n",
      "-rw-r--r--  1 mageswarand mageswarand 6.1M Feb 18 15:38 part-00005-87fc8316-4176-4e93-aa56-2b347163f81a-c000.snappy.parquet\n",
      "-rw-r--r--  1 mageswarand mageswarand 6.1M Feb 18 15:38 part-00006-87fc8316-4176-4e93-aa56-2b347163f81a-c000.snappy.parquet\n",
      "-rw-r--r--  1 mageswarand mageswarand 6.1M Feb 18 15:38 part-00007-87fc8316-4176-4e93-aa56-2b347163f81a-c000.snappy.parquet\n",
      "-rw-r--r--  1 mageswarand mageswarand 6.2M Feb 18 15:38 part-00008-87fc8316-4176-4e93-aa56-2b347163f81a-c000.snappy.parquet\n",
      "-rw-r--r--  1 mageswarand mageswarand 6.1M Feb 18 15:38 part-00009-87fc8316-4176-4e93-aa56-2b347163f81a-c000.snappy.parquet\n",
      "-rw-r--r--  1 mageswarand mageswarand 6.2M Feb 18 15:38 part-00010-87fc8316-4176-4e93-aa56-2b347163f81a-c000.snappy.parquet\n",
      "-rw-r--r--  1 mageswarand mageswarand 6.2M Feb 18 15:38 part-00011-87fc8316-4176-4e93-aa56-2b347163f81a-c000.snappy.parquet\n",
      "-rw-r--r--  1 mageswarand mageswarand 6.1M Feb 18 15:38 part-00012-87fc8316-4176-4e93-aa56-2b347163f81a-c000.snappy.parquet\n",
      "-rw-r--r--  1 mageswarand mageswarand 6.2M Feb 18 15:38 part-00013-87fc8316-4176-4e93-aa56-2b347163f81a-c000.snappy.parquet\n",
      "-rw-r--r--  1 mageswarand mageswarand 6.1M Feb 18 15:38 part-00014-87fc8316-4176-4e93-aa56-2b347163f81a-c000.snappy.parquet\n",
      "-rw-r--r--  1 mageswarand mageswarand 6.2M Feb 18 15:38 part-00015-87fc8316-4176-4e93-aa56-2b347163f81a-c000.snappy.parquet\n",
      "-rw-r--r--  1 mageswarand mageswarand 6.1M Feb 18 15:38 part-00016-87fc8316-4176-4e93-aa56-2b347163f81a-c000.snappy.parquet\n",
      "-rw-r--r--  1 mageswarand mageswarand 6.2M Feb 18 15:38 part-00017-87fc8316-4176-4e93-aa56-2b347163f81a-c000.snappy.parquet\n",
      "-rw-r--r--  1 mageswarand mageswarand 6.1M Feb 18 15:38 part-00018-87fc8316-4176-4e93-aa56-2b347163f81a-c000.snappy.parquet\n",
      "-rw-r--r--  1 mageswarand mageswarand 6.1M Feb 18 15:38 part-00019-87fc8316-4176-4e93-aa56-2b347163f81a-c000.snappy.parquet\n",
      "-rw-r--r--  1 mageswarand mageswarand 6.1M Feb 18 15:38 part-00020-87fc8316-4176-4e93-aa56-2b347163f81a-c000.snappy.parquet\n",
      "-rw-r--r--  1 mageswarand mageswarand 6.1M Feb 18 15:38 part-00021-87fc8316-4176-4e93-aa56-2b347163f81a-c000.snappy.parquet\n",
      "-rw-r--r--  1 mageswarand mageswarand 6.1M Feb 18 15:38 part-00022-87fc8316-4176-4e93-aa56-2b347163f81a-c000.snappy.parquet\n",
      "-rw-r--r--  1 mageswarand mageswarand 6.1M Feb 18 15:38 part-00023-87fc8316-4176-4e93-aa56-2b347163f81a-c000.snappy.parquet\n",
      "-rw-r--r--  1 mageswarand mageswarand 6.1M Feb 18 15:38 part-00024-87fc8316-4176-4e93-aa56-2b347163f81a-c000.snappy.parquet\n",
      "-rw-r--r--  1 mageswarand mageswarand 6.2M Feb 18 15:38 part-00025-87fc8316-4176-4e93-aa56-2b347163f81a-c000.snappy.parquet\n",
      "-rw-r--r--  1 mageswarand mageswarand 6.1M Feb 18 15:38 part-00026-87fc8316-4176-4e93-aa56-2b347163f81a-c000.snappy.parquet\n",
      "-rw-r--r--  1 mageswarand mageswarand 6.1M Feb 18 15:38 part-00027-87fc8316-4176-4e93-aa56-2b347163f81a-c000.snappy.parquet\n",
      "-rw-r--r--  1 mageswarand mageswarand 6.1M Feb 18 15:38 part-00028-87fc8316-4176-4e93-aa56-2b347163f81a-c000.snappy.parquet\n",
      "-rw-r--r--  1 mageswarand mageswarand 6.1M Feb 18 15:38 part-00029-87fc8316-4176-4e93-aa56-2b347163f81a-c000.snappy.parquet\n",
      "-rw-r--r--  1 mageswarand mageswarand 6.1M Feb 18 15:38 part-00030-87fc8316-4176-4e93-aa56-2b347163f81a-c000.snappy.parquet\n",
      "-rw-r--r--  1 mageswarand mageswarand 6.2M Feb 18 15:38 part-00031-87fc8316-4176-4e93-aa56-2b347163f81a-c000.snappy.parquet\n"
     ]
    }
   ],
   "source": [
    "%time\n",
    "! rm -rf /tmp/df_tes/\n",
    "df.write.parquet(\"/tmp/df_tes/\")\n",
    "!ls /tmp/df_tes/ -alh"
   ]
  },
  {
   "cell_type": "code",
   "execution_count": 23,
   "id": "trying-chancellor",
   "metadata": {},
   "outputs": [
    {
     "data": {
      "text/plain": [
       "11"
      ]
     },
     "execution_count": 23,
     "metadata": {},
     "output_type": "execute_result"
    }
   ],
   "source": [
    "df = spark.read.parquet(\"/tmp/df_tes/\")\n",
    "df.rdd.getNumPartitions()"
   ]
  },
  {
   "cell_type": "code",
   "execution_count": 26,
   "id": "broke-consistency",
   "metadata": {},
   "outputs": [
    {
     "name": "stdout",
     "output_type": "stream",
     "text": [
      "+--------------------+-----+\n",
      "|SPARK_PARTITION_ID()|count|\n",
      "+--------------------+-----+\n",
      "|                   1|94124|\n",
      "|                   6|93649|\n",
      "|                   3|93967|\n",
      "|                   5|93696|\n",
      "|                   9|93054|\n",
      "|                   4|93792|\n",
      "|                   8|93361|\n",
      "|                   7|93577|\n",
      "|                  10|61894|\n",
      "|                   2|94036|\n",
      "|                   0|94850|\n",
      "+--------------------+-----+\n",
      "\n"
     ]
    }
   ],
   "source": [
    "df.groupBy(spark_partition_id()).count().show()"
   ]
  },
  {
   "cell_type": "code",
   "execution_count": null,
   "id": "victorian-flashing",
   "metadata": {},
   "outputs": [],
   "source": []
  }
 ],
 "metadata": {
  "kernelspec": {
   "display_name": "Python 3",
   "language": "python",
   "name": "python3"
  },
  "language_info": {
   "codemirror_mode": {
    "name": "ipython",
    "version": 3
   },
   "file_extension": ".py",
   "mimetype": "text/x-python",
   "name": "python",
   "nbconvert_exporter": "python",
   "pygments_lexer": "ipython3",
   "version": "3.7.9"
  }
 },
 "nbformat": 4,
 "nbformat_minor": 5
}
