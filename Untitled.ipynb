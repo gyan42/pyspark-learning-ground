{
 "cells": [
  {
   "cell_type": "code",
   "execution_count": 153,
   "id": "moral-voltage",
   "metadata": {},
   "outputs": [
    {
     "name": "stdout",
     "output_type": "stream",
     "text": [
      "****************************************************************************************************\n",
      "2 True\n",
      "0089 True\n",
      "-0.1 True\n",
      "+3.14 True\n",
      "4. True\n",
      "-.9 True\n",
      "2e10 True\n",
      "-90E3 True\n",
      "3e+7 True\n",
      "+6e-1 True\n",
      "53.5e93 True\n",
      "-123.456e789 True\n",
      "****************************************************************************************************\n",
      "abc False\n",
      "1a False\n",
      "1e False\n",
      "e3 False\n",
      "99e2.5 False\n",
      "--6 False\n",
      "-+3 False\n",
      "95a54e53 False\n",
      "****************************************************************************************************\n"
     ]
    }
   ],
   "source": [
    "class Solution:\n",
    "    def isNumber(self, s: str) -> bool:\n",
    "        # 0-9 + - . eE\n",
    "        # ord\n",
    "        # case1: Intergers \n",
    "            # Case 1a: Handling the sign\n",
    "        # Case 2: Floating\n",
    "            # Case 2a: Validating Sign\n",
    "            # Case 2b: Val dec.point\n",
    "            # Case 2c: Validate e/E\n",
    "        e = False\n",
    "        sign = False\n",
    "        for i in range(len(s)):\n",
    "            c = s[i]\n",
    "            if not (c >= '0' and c <= '9') and c not in ['.', '+', '-', 'e', 'E']:\n",
    "                return False\n",
    "            if c in ['+', '-'] and sign and not e: # +6e-1\n",
    "                return False\n",
    "            if c in ['+', '-']:\n",
    "                sign = True\n",
    "                continue\n",
    "\n",
    "            if e and c == '.':\n",
    "                return False\n",
    "            \n",
    "            if c in ['e', 'E']:\n",
    "                if e:\n",
    "                    return False\n",
    "                e = True\n",
    "                #if s is begining, since 0-1= -1 will give end of the string\n",
    "                if s[0] == 'e':\n",
    "                    return False\n",
    "                if not(s[i-1] >= '0' and s[i-1] <= '9'):\n",
    "                    return False\n",
    "                if i+1 >= len(s):\n",
    "                    return False\n",
    "                continue\n",
    "            \n",
    "        return True\n",
    "\n",
    "print(\"*\" * 100)\n",
    "for s in [\"2\", \"0089\", \"-0.1\", \"+3.14\", \"4.\", \"-.9\", \"2e10\", \"-90E3\", \"3e+7\", \"+6e-1\", \"53.5e93\", \"-123.456e789\"]:\n",
    "    print(s, Solution().isNumber(s))\n",
    "            \n",
    "print(\"*\" * 100)              \n",
    "for s in [\"abc\", \"1a\", \"1e\", \"e3\", \"99e2.5\", \"--6\", \"-+3\", \"95a54e53\"]:\n",
    "    print(s, Solution().isNumber(s))         \n",
    "print(\"*\" * 100)     "
   ]
  },
  {
   "cell_type": "code",
   "execution_count": 147,
   "id": "popular-edward",
   "metadata": {},
   "outputs": [
    {
     "data": {
      "text/plain": [
       "True"
      ]
     },
     "execution_count": 147,
     "metadata": {},
     "output_type": "execute_result"
    }
   ],
   "source": [
    "Solution().isNumber(\"+6e-1\")"
   ]
  },
  {
   "cell_type": "code",
   "execution_count": 148,
   "id": "touched-shopper",
   "metadata": {},
   "outputs": [
    {
     "name": "stdout",
     "output_type": "stream",
     "text": [
      "2 True\n",
      "0089 True\n",
      "-0.1 True\n",
      "+3.14 True\n",
      "4. True\n",
      "-.9 True\n",
      "2e10 True\n",
      "-90E3 True\n",
      "3e+7 True\n",
      "+6e-1 True\n",
      "53.5e93 True\n",
      "-123.456e789 True\n"
     ]
    }
   ],
   "source": []
  },
  {
   "cell_type": "code",
   "execution_count": 149,
   "id": "timely-singapore",
   "metadata": {},
   "outputs": [
    {
     "name": "stdout",
     "output_type": "stream",
     "text": [
      "abc False\n",
      "1a False\n",
      "1e False\n",
      "e3 False\n",
      "99e2.5 False\n",
      "--6 False\n",
      "-+3 False\n",
      "95a54e53 False\n"
     ]
    }
   ],
   "source": [
    "for s in [\"abc\", \"1a\", \"1e\", \"e3\", \"99e2.5\", \"--6\", \"-+3\", \"95a54e53\"]:\n",
    "    print(s, Solution().isNumber(s))"
   ]
  },
  {
   "cell_type": "code",
   "execution_count": 134,
   "id": "distant-hierarchy",
   "metadata": {},
   "outputs": [
    {
     "data": {
      "text/plain": [
       "False"
      ]
     },
     "execution_count": 134,
     "metadata": {},
     "output_type": "execute_result"
    }
   ],
   "source": [
    "Solution().isNumber(\"+6e-1\")"
   ]
  },
  {
   "cell_type": "code",
   "execution_count": null,
   "id": "correct-appeal",
   "metadata": {},
   "outputs": [],
   "source": []
  }
 ],
 "metadata": {
  "kernelspec": {
   "display_name": "Python 3",
   "language": "python",
   "name": "python3"
  },
  "language_info": {
   "codemirror_mode": {
    "name": "ipython",
    "version": 3
   },
   "file_extension": ".py",
   "mimetype": "text/x-python",
   "name": "python",
   "nbconvert_exporter": "python",
   "pygments_lexer": "ipython3",
   "version": "3.7.9"
  }
 },
 "nbformat": 4,
 "nbformat_minor": 5
}
